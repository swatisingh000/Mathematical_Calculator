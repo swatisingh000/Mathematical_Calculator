{
 "cells": [
  {
   "cell_type": "markdown",
   "metadata": {},
   "source": [
    "## @author Swati"
   ]
  },
  {
   "cell_type": "markdown",
   "metadata": {},
   "source": [
    "### calculator using if else in python"
   ]
  },
  {
   "cell_type": "code",
   "execution_count": null,
   "metadata": {},
   "outputs": [],
   "source": [
    "# Function to add two numbers\n",
    "def add(num1, num2):\n",
    "\treturn num1 + num2\n",
    "\n",
    "# Function to subtract two numbers\n",
    "def subtract(num1, num2):\n",
    "\treturn num1 - num2\n",
    "\n",
    "# Function to multiply two numbers\n",
    "def multiply(num1, num2):\n",
    "\treturn num1 * num2\n",
    "\n",
    "# Function to divide two numbers\n",
    "def divide(num1, num2):\n",
    "\treturn num1 / num2\n",
    "\n",
    "print(\"Please select operation -\\n\" \\\n",
    "\t\t\"1. Add\\n\" \\\n",
    "\t\t\"2. Subtract\\n\" \\\n",
    "\t\t\"3. Multiply\\n\" \\\n",
    "\t\t\"4. Divide\\n\")\n",
    "\n",
    "\n",
    "# Take input from the user\n",
    "select = int(input(\"Select operations form 1, 2, 3, 4 :\"))\n",
    "\n",
    "number_1 = int(input(\"Enter first number: \"))\n",
    "number_2 = int(input(\"Enter second number: \"))\n",
    "\n",
    "if select == 1:\n",
    "\tprint(number_1, \"+\", number_2, \"=\",\n",
    "\t\t\t\t\tadd(number_1, number_2))\n",
    "\n",
    "elif select == 2:\n",
    "\tprint(number_1, \"-\", number_2, \"=\",\n",
    "\t\t\t\t\tsubtract(number_1, number_2))\n",
    "\n",
    "elif select == 3:\n",
    "\tprint(number_1, \"*\", number_2, \"=\",\n",
    "\t\t\t\t\tmultiply(number_1, number_2))\n",
    "\n",
    "elif select == 4:\n",
    "\tprint(number_1, \"/\", number_2, \"=\",\n",
    "\t\t\t\t\tdivide(number_1, number_2))\n",
    "else:\n",
    "\tprint(\"Invalid input\")\n"
   ]
  }
 ],
 "metadata": {
  "kernelspec": {
   "display_name": "Python 3",
   "language": "python",
   "name": "python3"
  },
  "language_info": {
   "codemirror_mode": {
    "name": "ipython",
    "version": 3
   },
   "file_extension": ".py",
   "mimetype": "text/x-python",
   "name": "python",
   "nbconvert_exporter": "python",
   "pygments_lexer": "ipython3",
   "version": "3.8.3"
  }
 },
 "nbformat": 4,
 "nbformat_minor": 4
}
